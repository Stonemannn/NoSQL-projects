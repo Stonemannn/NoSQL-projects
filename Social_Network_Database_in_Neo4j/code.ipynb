{
 "cells": [
  {
   "cell_type": "markdown",
   "metadata": {},
   "source": [
    "### Code"
   ]
  },
  {
   "cell_type": "code",
   "execution_count": 2,
   "metadata": {},
   "outputs": [],
   "source": [
    "import neo4j\n",
    "import pandas as pd"
   ]
  },
  {
   "cell_type": "code",
   "execution_count": 3,
   "metadata": {},
   "outputs": [],
   "source": [
    "def connect_db():\n",
    "    # Connect to the neo4j database\n",
    "    driver = neo4j.GraphDatabase.driver(uri=\"neo4j://0.0.0.0:7687\", auth=(\"neo4j\", \"password\"))\n",
    "    session = driver.session(database=\"neo4j\")\n",
    "    return session\n",
    "\n",
    "def wipe_out_db(session):\n",
    "    # Wipe out the database\n",
    "    query = \"\"\"\n",
    "    MATCH (n)-[r]-()\n",
    "    DELETE n,r\n",
    "    \"\"\"\n",
    "    session.run(query)\n",
    "\n",
    "    query = \"\"\"\n",
    "    MATCH (n)\n",
    "    DELETE n\n",
    "    \"\"\"\n",
    "    session.run(query)\n",
    "\n",
    "session = connect_db()\n",
    "wipe_out_db(session)"
   ]
  },
  {
   "cell_type": "code",
   "execution_count": 9,
   "metadata": {},
   "outputs": [],
   "source": [
    "def run_query_to_pandas(session, query):\n",
    "    # run a query and return the results in a pandas dataframe\n",
    "    \n",
    "    result = session.run(query)\n",
    "    \n",
    "    df = pd.DataFrame([r.values() for r in result], columns=result.keys())\n",
    "    \n",
    "    return df"
   ]
  },
  {
   "cell_type": "markdown",
   "metadata": {},
   "source": [
    "### Data Insertion"
   ]
  },
  {
   "cell_type": "code",
   "execution_count": 30,
   "metadata": {},
   "outputs": [
    {
     "data": {
      "text/plain": [
       "<neo4j._sync.work.result.Result at 0x1768d6a90>"
      ]
     },
     "execution_count": 30,
     "metadata": {},
     "output_type": "execute_result"
    }
   ],
   "source": [
    "query = '''\n",
    "CREATE\n",
    "(alice:User {user_id: 1, first_name: 'Alice', last_name: 'Smith', email: 'a.smith@gmail.com', phone_number: '1234567890', graduation_year: 2017}),\n",
    "(bob:User {user_id: 2, first_name: 'Bob', last_name: 'Johnson', email: 'b.johnson@gmail.com', phone_number: '2345678901', graduation_year: 2018}),\n",
    "(charlie:User {user_id: 3, first_name: 'Charlie', last_name: 'Brown', email: 'c.brown@gmail.com', phone_number: '3456789012', graduation_year: 2019}),\n",
    "(diana:User {user_id: 4, first_name: 'Diana', last_name: 'Ross', email: 'd.ross@gmail.com', phone_number: '4567890123', graduation_year: 2024}),\n",
    "(eric:User {user_id: 5, first_name: 'Eric', last_name: 'Clapton', email: 'e.clapton@gmail.com', phone_number: '5678901234', graduation_year: 2024}),\n",
    "(fiona:User {user_id: 6, first_name: 'Fiona', last_name: 'Apple', email: 'f.apple@gmail.com', phone_number: '6789012345', graduation_year: 2024})\n",
    "\n",
    "\n",
    "CREATE\n",
    "(post1:Post {post_id: 1, post_text: 'I am looking for a project partner for the Capstone project.', post_date: '2023-01-01', topic: 'Education and Professional Development'}),\n",
    "(post2:Post {post_id: 2, post_text: 'Anyone wants to play pool this weekend?', post_date: '2023-01-02', topic: 'Social and Recreational Activities'}),\n",
    "(post3:Post {post_id: 3, post_text: 'I am looking for a job in data science.', post_date: '2023-01-03', topic: 'Education and Professional Development'}),\n",
    "(post4:Post {post_id: 4, post_text: 'Does anyone have recommendations for a good Machine Learning book?', post_date: '2023-01-04', topic: 'Education and Professional Development'}),\n",
    "(post5:Post {post_id: 5, post_text: 'Looking for team members for a hackathon next month.', post_date: '2023-01-05', topic: 'Education and Professional Development'}),\n",
    "(post6:Post {post_id: 6, post_text: 'Selling a barely used laptop. DM for details.', post_date: '2023-01-06', topic: 'Marketplace and Exchange'}),\n",
    "(post7:Post {post_id: 7, post_text: 'Looking for a study group for the machine learning course.', post_date: '2023-01-07', topic: 'Education and Professional Development'}),\n",
    "(post8:Post {post_id: 8, post_text: 'Can anyone help with Python coding? I got some bugs in my code.', post_date: '2023-01-08', topic: 'Education and Professional Development'})\n",
    "\n",
    "\n",
    "CREATE\n",
    "(comment1:Comment {comment_id: 1, comment_text: 'I am interested.', comment_date: '2023-01-01'}), // post_id: 1\n",
    "(comment2:Comment {comment_id: 2, comment_text: 'I am down.', comment_date: '2023-01-02'}), // post_id: 2\n",
    "(comment3:Comment {comment_id: 3, comment_text: 'Good luck with your job search!', comment_date: '2023-01-03'}), // post_id: 3\n",
    "(comment4:Comment {comment_id: 4, comment_text: 'I would recommend \"Deep Learning\".', comment_date: '2023-01-04'}), // post_id: 4\n",
    "(comment5:Comment {comment_id: 5, comment_text: 'What skills are required for the hackathon?', comment_date: '2023-01-05'}), // post_id: 5\n",
    "(comment6:Comment {comment_id: 6, comment_text: 'What are the specs of the laptop?', comment_date: '2023-01-06'}), // post_id: 6\n",
    "(comment7:Comment {comment_id: 7, comment_text: 'I am also looking for a study group!', comment_date: '2023-01-07'}), // post_id: 7\n",
    "(comment8:Comment {comment_id: 8, comment_text: 'I can help with Python. What issues are you facing?', comment_date: '2023-01-08'}), // post_id: 8\n",
    "(comment9:Comment {comment_id: 9, comment_text: 'Send me your resume.', comment_date: '2023-01-09'}), // post_id: 3\n",
    "(comment10:Comment {comment_id: 10, comment_text: 'I might join for pool!', comment_date: '2023-01-10'}), // post_id: 2\n",
    "(comment11:Comment {comment_id: 11, comment_text: 'Is the project partner position still open?', comment_date: '2023-01-11'}), // post_id: 1\n",
    "(comment12:Comment {comment_id: 12, comment_text: 'Can you share more details about the hackathon?', comment_date: '2023-01-12'}), // post_id: 5\n",
    "(comment13:Comment {comment_id: 13, comment_text: 'I have some experience in ML. Maybe I can join the study group.', comment_date: '2023-01-13'}), // post_id: 7\n",
    "(comment14:Comment {comment_id: 14, comment_text: 'How much are you asking for the laptop?', comment_date: '2023-01-14'}), // post_id: 6\n",
    "(comment15:Comment {comment_id: 15, comment_text: 'Python is my forte. Let me know if you need help.', comment_date: '2023-01-15'}) // post_id: 8\n",
    "\n",
    "\n",
    "\n",
    "CREATE\n",
    "(interest1:Interest {interest_id: 1, interest_name: 'Machine Learning'}),\n",
    "(interest2:Interest {interest_id: 2, interest_name: 'Pool'}),\n",
    "(interest3:Interest {interest_id: 3, interest_name: 'Job Search'})\n",
    "\n",
    "CREATE\n",
    "(diana)-[:POSTED]->(post1),\n",
    "(alice)-[:POSTED]->(post2),\n",
    "(diana)-[:POSTED]->(post3),\n",
    "(eric)-[:POSTED]->(post4),\n",
    "(eric)-[:POSTED]->(post5),\n",
    "(bob)-[:POSTED]->(post6),\n",
    "(eric)-[:POSTED]->(post7),\n",
    "(diana)-[:POSTED]->(post8)\n",
    "\n",
    "CREATE\n",
    "(fiona)-[:COMMENTED]->(comment1),\n",
    "(bob)-[:COMMENTED]->(comment2),\n",
    "(alice)-[:COMMENTED]->(comment3),\n",
    "(bob)-[:COMMENTED]->(comment4),\n",
    "(fiona)-[:COMMENTED]->(comment5),\n",
    "(fiona)-[:COMMENTED]->(comment6),\n",
    "(fiona)-[:COMMENTED]->(comment7),\n",
    "(alice)-[:COMMENTED]->(comment8),\n",
    "(alice)-[:COMMENTED]->(comment9),\n",
    "(eric)-[:COMMENTED]->(comment10),\n",
    "(eric)-[:COMMENTED]->(comment11),\n",
    "(diana)-[:COMMENTED]->(comment12),\n",
    "(diana)-[:COMMENTED]->(comment13),\n",
    "(bob)-[:COMMENTED]->(comment14),\n",
    "(charlie)-[:COMMENTED]->(comment15)\n",
    "\n",
    "CREATE\n",
    "(eric)-[:HAS_INTEREST]->(interest1),\n",
    "(diana)-[:HAS_INTEREST]->(interest1),\n",
    "(fiona)-[:HAS_INTEREST]->(interest1),\n",
    "(alice)-[:HAS_INTEREST]->(interest2),\n",
    "(bob)-[:HAS_INTEREST]->(interest2),\n",
    "(eric)-[:HAS_INTEREST]->(interest2),\n",
    "(diana)-[:HAS_INTEREST]->(interest3)\n",
    "\n",
    "CREATE\n",
    "(eric)-[:FOLLOWS]->(diana),\n",
    "(eric)-[:FOLLOWS]->(fiona),\n",
    "(diana)-[:FOLLOWS]->(fiona),\n",
    "(diana)-[:FOLLOWS]->(eric),\n",
    "(fiona)-[:FOLLOWS]->(eric),\n",
    "(fiona)-[:FOLLOWS]->(diana),\n",
    "(alice)-[:FOLLOWS]->(bob),\n",
    "(alice)-[:FOLLOWS]->(eric),\n",
    "(bob)-[:FOLLOWS]->(alice),\n",
    "(bob)-[:FOLLOWS]->(eric),\n",
    "(eric)-[:FOLLOWS]->(alice),\n",
    "(eric)-[:FOLLOWS]->(bob)\n",
    "\n",
    "CREATE\n",
    "(post1)-[:HAS_COMMENT]->(comment1),\n",
    "(post1)-[:HAS_COMMENT]->(comment11),\n",
    "(post2)-[:HAS_COMMENT]->(comment2),\n",
    "(post2)-[:HAS_COMMENT]->(comment10),\n",
    "(post3)-[:HAS_COMMENT]->(comment3),\n",
    "(post3)-[:HAS_COMMENT]->(comment9),\n",
    "(post4)-[:HAS_COMMENT]->(comment4),\n",
    "(post5)-[:HAS_COMMENT]->(comment5),\n",
    "(post5)-[:HAS_COMMENT]->(comment12),\n",
    "(post6)-[:HAS_COMMENT]->(comment6),\n",
    "(post6)-[:HAS_COMMENT]->(comment14),\n",
    "(post7)-[:HAS_COMMENT]->(comment7),\n",
    "(post7)-[:HAS_COMMENT]->(comment13),\n",
    "(post8)-[:HAS_COMMENT]->(comment8),\n",
    "(post8)-[:HAS_COMMENT]->(comment15);\n",
    "'''\n",
    "\n",
    "wipe_out_db(session)\n",
    "session.run(query)"
   ]
  },
  {
   "cell_type": "markdown",
   "metadata": {},
   "source": [
    "### Data Retrieval"
   ]
  },
  {
   "cell_type": "markdown",
   "metadata": {},
   "source": [
    "#### Retrieve a property of a specific User "
   ]
  },
  {
   "cell_type": "code",
   "execution_count": 31,
   "metadata": {},
   "outputs": [],
   "source": [
    "def retrieve_user_info(session, user_id):\n",
    "    # Retrieve user information\n",
    "    query = f'''\n",
    "    MATCH (n:User {{user_id: {user_id}}})\n",
    "    RETURN n.user_id AS `user id`, n.first_name AS `first name`, n.last_name AS `last name`, n.email AS `email`, n.phone_number AS `phone number`, n.graduation_year AS `graduation year`;\n",
    "    '''\n",
    "    return run_query_to_pandas(session, query)"
   ]
  },
  {
   "cell_type": "code",
   "execution_count": 32,
   "metadata": {},
   "outputs": [
    {
     "data": {
      "text/html": [
       "<div>\n",
       "<style scoped>\n",
       "    .dataframe tbody tr th:only-of-type {\n",
       "        vertical-align: middle;\n",
       "    }\n",
       "\n",
       "    .dataframe tbody tr th {\n",
       "        vertical-align: top;\n",
       "    }\n",
       "\n",
       "    .dataframe thead th {\n",
       "        text-align: right;\n",
       "    }\n",
       "</style>\n",
       "<table border=\"1\" class=\"dataframe\">\n",
       "  <thead>\n",
       "    <tr style=\"text-align: right;\">\n",
       "      <th></th>\n",
       "      <th>user id</th>\n",
       "      <th>first name</th>\n",
       "      <th>last name</th>\n",
       "      <th>email</th>\n",
       "      <th>phone number</th>\n",
       "      <th>graduation year</th>\n",
       "    </tr>\n",
       "  </thead>\n",
       "  <tbody>\n",
       "    <tr>\n",
       "      <th>0</th>\n",
       "      <td>1</td>\n",
       "      <td>Alice</td>\n",
       "      <td>Smith</td>\n",
       "      <td>a.smith@gmail.com</td>\n",
       "      <td>1234567890</td>\n",
       "      <td>2017</td>\n",
       "    </tr>\n",
       "  </tbody>\n",
       "</table>\n",
       "</div>"
      ],
      "text/plain": [
       "   user id first name last name              email phone number  \\\n",
       "0        1      Alice     Smith  a.smith@gmail.com   1234567890   \n",
       "\n",
       "   graduation year  \n",
       "0             2017  "
      ]
     },
     "execution_count": 32,
     "metadata": {},
     "output_type": "execute_result"
    }
   ],
   "source": [
    "retrieve_user_info(session, 1)"
   ]
  },
  {
   "cell_type": "markdown",
   "metadata": {},
   "source": [
    "#### Find all Posts by a specific User"
   ]
  },
  {
   "cell_type": "code",
   "execution_count": 34,
   "metadata": {},
   "outputs": [],
   "source": [
    "def retrieve_all_posts_by_user(session, user_id):\n",
    "    query = f'''\n",
    "    MATCH (n:User {{user_id: {user_id}}})-[:POSTED]->(p:Post)\n",
    "    RETURN \n",
    "        p.post_id AS `post id`,\n",
    "        p.post_text AS `post text`,\n",
    "        p.post_date AS `post date`,\n",
    "        p.topic AS `topic`\n",
    "    ORDER BY p.post_date ASC;\n",
    "    '''\n",
    "    return run_query_to_pandas(session, query)"
   ]
  },
  {
   "cell_type": "code",
   "execution_count": 35,
   "metadata": {},
   "outputs": [
    {
     "data": {
      "text/html": [
       "<div>\n",
       "<style scoped>\n",
       "    .dataframe tbody tr th:only-of-type {\n",
       "        vertical-align: middle;\n",
       "    }\n",
       "\n",
       "    .dataframe tbody tr th {\n",
       "        vertical-align: top;\n",
       "    }\n",
       "\n",
       "    .dataframe thead th {\n",
       "        text-align: right;\n",
       "    }\n",
       "</style>\n",
       "<table border=\"1\" class=\"dataframe\">\n",
       "  <thead>\n",
       "    <tr style=\"text-align: right;\">\n",
       "      <th></th>\n",
       "      <th>post id</th>\n",
       "      <th>post text</th>\n",
       "      <th>post date</th>\n",
       "      <th>topic</th>\n",
       "    </tr>\n",
       "  </thead>\n",
       "  <tbody>\n",
       "    <tr>\n",
       "      <th>0</th>\n",
       "      <td>4</td>\n",
       "      <td>Does anyone have recommendations for a good Ma...</td>\n",
       "      <td>2023-01-04</td>\n",
       "      <td>Education and Professional Development</td>\n",
       "    </tr>\n",
       "    <tr>\n",
       "      <th>1</th>\n",
       "      <td>5</td>\n",
       "      <td>Looking for team members for a hackathon next ...</td>\n",
       "      <td>2023-01-05</td>\n",
       "      <td>Education and Professional Development</td>\n",
       "    </tr>\n",
       "    <tr>\n",
       "      <th>2</th>\n",
       "      <td>7</td>\n",
       "      <td>Looking for a study group for the machine lear...</td>\n",
       "      <td>2023-01-07</td>\n",
       "      <td>Education and Professional Development</td>\n",
       "    </tr>\n",
       "  </tbody>\n",
       "</table>\n",
       "</div>"
      ],
      "text/plain": [
       "   post id                                          post text   post date  \\\n",
       "0        4  Does anyone have recommendations for a good Ma...  2023-01-04   \n",
       "1        5  Looking for team members for a hackathon next ...  2023-01-05   \n",
       "2        7  Looking for a study group for the machine lear...  2023-01-07   \n",
       "\n",
       "                                    topic  \n",
       "0  Education and Professional Development  \n",
       "1  Education and Professional Development  \n",
       "2  Education and Professional Development  "
      ]
     },
     "execution_count": 35,
     "metadata": {},
     "output_type": "execute_result"
    }
   ],
   "source": [
    "retrieve_all_posts_by_user(session, 5)"
   ]
  },
  {
   "cell_type": "markdown",
   "metadata": {},
   "source": [
    "#### Find all Users who posted a specific topic of Post  "
   ]
  },
  {
   "cell_type": "code",
   "execution_count": 38,
   "metadata": {},
   "outputs": [],
   "source": [
    "def retrieve_all_users_by_topic(session, topic):\n",
    "    query = f'''\n",
    "    MATCH (u:User)-[:POSTED]->(p:Post {{topic: '{topic}'}})\n",
    "    RETURN \n",
    "        p.topic AS `topic`,\n",
    "        u.user_id AS `user id`,\n",
    "        u.first_name AS `first name`,\n",
    "        u.last_name AS `last name`\n",
    "    ORDER BY u.user_id ASC;\n",
    "    '''\n",
    "    return run_query_to_pandas(session, query)"
   ]
  },
  {
   "cell_type": "code",
   "execution_count": 39,
   "metadata": {},
   "outputs": [
    {
     "data": {
      "text/html": [
       "<div>\n",
       "<style scoped>\n",
       "    .dataframe tbody tr th:only-of-type {\n",
       "        vertical-align: middle;\n",
       "    }\n",
       "\n",
       "    .dataframe tbody tr th {\n",
       "        vertical-align: top;\n",
       "    }\n",
       "\n",
       "    .dataframe thead th {\n",
       "        text-align: right;\n",
       "    }\n",
       "</style>\n",
       "<table border=\"1\" class=\"dataframe\">\n",
       "  <thead>\n",
       "    <tr style=\"text-align: right;\">\n",
       "      <th></th>\n",
       "      <th>topic</th>\n",
       "      <th>user id</th>\n",
       "      <th>first name</th>\n",
       "      <th>last name</th>\n",
       "    </tr>\n",
       "  </thead>\n",
       "  <tbody>\n",
       "    <tr>\n",
       "      <th>0</th>\n",
       "      <td>Education and Professional Development</td>\n",
       "      <td>4</td>\n",
       "      <td>Diana</td>\n",
       "      <td>Ross</td>\n",
       "    </tr>\n",
       "    <tr>\n",
       "      <th>1</th>\n",
       "      <td>Education and Professional Development</td>\n",
       "      <td>4</td>\n",
       "      <td>Diana</td>\n",
       "      <td>Ross</td>\n",
       "    </tr>\n",
       "    <tr>\n",
       "      <th>2</th>\n",
       "      <td>Education and Professional Development</td>\n",
       "      <td>4</td>\n",
       "      <td>Diana</td>\n",
       "      <td>Ross</td>\n",
       "    </tr>\n",
       "    <tr>\n",
       "      <th>3</th>\n",
       "      <td>Education and Professional Development</td>\n",
       "      <td>5</td>\n",
       "      <td>Eric</td>\n",
       "      <td>Clapton</td>\n",
       "    </tr>\n",
       "    <tr>\n",
       "      <th>4</th>\n",
       "      <td>Education and Professional Development</td>\n",
       "      <td>5</td>\n",
       "      <td>Eric</td>\n",
       "      <td>Clapton</td>\n",
       "    </tr>\n",
       "    <tr>\n",
       "      <th>5</th>\n",
       "      <td>Education and Professional Development</td>\n",
       "      <td>5</td>\n",
       "      <td>Eric</td>\n",
       "      <td>Clapton</td>\n",
       "    </tr>\n",
       "  </tbody>\n",
       "</table>\n",
       "</div>"
      ],
      "text/plain": [
       "                                    topic  user id first name last name\n",
       "0  Education and Professional Development        4      Diana      Ross\n",
       "1  Education and Professional Development        4      Diana      Ross\n",
       "2  Education and Professional Development        4      Diana      Ross\n",
       "3  Education and Professional Development        5       Eric   Clapton\n",
       "4  Education and Professional Development        5       Eric   Clapton\n",
       "5  Education and Professional Development        5       Eric   Clapton"
      ]
     },
     "execution_count": 39,
     "metadata": {},
     "output_type": "execute_result"
    }
   ],
   "source": [
    "retrieve_all_users_by_topic(session, 'Education and Professional Development')"
   ]
  },
  {
   "cell_type": "markdown",
   "metadata": {},
   "source": [
    "#### Find common interests between two specific Users "
   ]
  },
  {
   "cell_type": "code",
   "execution_count": 48,
   "metadata": {},
   "outputs": [],
   "source": [
    "def common_interests(session, user_id1, user_id2):\n",
    "    query = f'''\n",
    "    MATCH (u1:User {{user_id : {user_id1}}})-[:HAS_INTEREST]->(r:Interest)<-[:HAS_INTEREST]-(u2:User {{user_id: {user_id2}}})\n",
    "    RETURN\n",
    "        u1.first_name AS `user 1`,\n",
    "        u2.first_name AS `user 2`,\n",
    "        r.interest_name AS `common interest`;\n",
    "    '''\n",
    "    return run_query_to_pandas(session, query)"
   ]
  },
  {
   "cell_type": "code",
   "execution_count": 49,
   "metadata": {},
   "outputs": [
    {
     "data": {
      "text/html": [
       "<div>\n",
       "<style scoped>\n",
       "    .dataframe tbody tr th:only-of-type {\n",
       "        vertical-align: middle;\n",
       "    }\n",
       "\n",
       "    .dataframe tbody tr th {\n",
       "        vertical-align: top;\n",
       "    }\n",
       "\n",
       "    .dataframe thead th {\n",
       "        text-align: right;\n",
       "    }\n",
       "</style>\n",
       "<table border=\"1\" class=\"dataframe\">\n",
       "  <thead>\n",
       "    <tr style=\"text-align: right;\">\n",
       "      <th></th>\n",
       "      <th>user 1</th>\n",
       "      <th>user 2</th>\n",
       "      <th>common interest</th>\n",
       "    </tr>\n",
       "  </thead>\n",
       "  <tbody>\n",
       "    <tr>\n",
       "      <th>0</th>\n",
       "      <td>Alice</td>\n",
       "      <td>Bob</td>\n",
       "      <td>Pool</td>\n",
       "    </tr>\n",
       "  </tbody>\n",
       "</table>\n",
       "</div>"
      ],
      "text/plain": [
       "  user 1 user 2 common interest\n",
       "0  Alice    Bob            Pool"
      ]
     },
     "execution_count": 49,
     "metadata": {},
     "output_type": "execute_result"
    }
   ],
   "source": [
    "common_interests(session, 1, 2)"
   ]
  },
  {
   "cell_type": "markdown",
   "metadata": {},
   "source": [
    "#### Retrieve top 3 Users who created most Posts"
   ]
  },
  {
   "cell_type": "code",
   "execution_count": 51,
   "metadata": {},
   "outputs": [],
   "source": [
    "def top3_users_by_posts(session):\n",
    "    query = '''\n",
    "    MATCH (u:User)-[:POSTED]->(p:Post)\n",
    "    RETURN\n",
    "        u.user_id AS `user id`,\n",
    "        u.first_name AS `first name`,\n",
    "        u.last_name AS `last name`,\n",
    "        COUNT(p) AS `number of posts`\n",
    "    ORDER BY COUNT(p) DESC\n",
    "    LIMIT 3;\n",
    "    '''\n",
    "    return run_query_to_pandas(session, query)"
   ]
  },
  {
   "cell_type": "code",
   "execution_count": 53,
   "metadata": {},
   "outputs": [
    {
     "data": {
      "text/html": [
       "<div>\n",
       "<style scoped>\n",
       "    .dataframe tbody tr th:only-of-type {\n",
       "        vertical-align: middle;\n",
       "    }\n",
       "\n",
       "    .dataframe tbody tr th {\n",
       "        vertical-align: top;\n",
       "    }\n",
       "\n",
       "    .dataframe thead th {\n",
       "        text-align: right;\n",
       "    }\n",
       "</style>\n",
       "<table border=\"1\" class=\"dataframe\">\n",
       "  <thead>\n",
       "    <tr style=\"text-align: right;\">\n",
       "      <th></th>\n",
       "      <th>user id</th>\n",
       "      <th>first name</th>\n",
       "      <th>last name</th>\n",
       "      <th>number of posts</th>\n",
       "    </tr>\n",
       "  </thead>\n",
       "  <tbody>\n",
       "    <tr>\n",
       "      <th>0</th>\n",
       "      <td>4</td>\n",
       "      <td>Diana</td>\n",
       "      <td>Ross</td>\n",
       "      <td>3</td>\n",
       "    </tr>\n",
       "    <tr>\n",
       "      <th>1</th>\n",
       "      <td>5</td>\n",
       "      <td>Eric</td>\n",
       "      <td>Clapton</td>\n",
       "      <td>3</td>\n",
       "    </tr>\n",
       "    <tr>\n",
       "      <th>2</th>\n",
       "      <td>1</td>\n",
       "      <td>Alice</td>\n",
       "      <td>Smith</td>\n",
       "      <td>1</td>\n",
       "    </tr>\n",
       "  </tbody>\n",
       "</table>\n",
       "</div>"
      ],
      "text/plain": [
       "   user id first name last name  number of posts\n",
       "0        4      Diana      Ross                3\n",
       "1        5       Eric   Clapton                3\n",
       "2        1      Alice     Smith                1"
      ]
     },
     "execution_count": 53,
     "metadata": {},
     "output_type": "execute_result"
    }
   ],
   "source": [
    "top3_users_by_posts(session)"
   ]
  },
  {
   "cell_type": "markdown",
   "metadata": {},
   "source": [
    "#### Retrieve Users who haven’t created any Posts"
   ]
  },
  {
   "cell_type": "code",
   "execution_count": 56,
   "metadata": {},
   "outputs": [],
   "source": [
    "def users_with_no_posts(session):\n",
    "    query = '''\n",
    "    MATCH (u:User)\n",
    "    WHERE NOT (u)-[:POSTED]->(:Post)\n",
    "    RETURN\n",
    "        u.user_id AS `user id`,\n",
    "        u.first_name AS `first name`,\n",
    "        u.last_name AS `last name`;\n",
    "    '''\n",
    "    return run_query_to_pandas(session, query)"
   ]
  },
  {
   "cell_type": "code",
   "execution_count": 57,
   "metadata": {},
   "outputs": [
    {
     "data": {
      "text/html": [
       "<div>\n",
       "<style scoped>\n",
       "    .dataframe tbody tr th:only-of-type {\n",
       "        vertical-align: middle;\n",
       "    }\n",
       "\n",
       "    .dataframe tbody tr th {\n",
       "        vertical-align: top;\n",
       "    }\n",
       "\n",
       "    .dataframe thead th {\n",
       "        text-align: right;\n",
       "    }\n",
       "</style>\n",
       "<table border=\"1\" class=\"dataframe\">\n",
       "  <thead>\n",
       "    <tr style=\"text-align: right;\">\n",
       "      <th></th>\n",
       "      <th>user id</th>\n",
       "      <th>first name</th>\n",
       "      <th>last name</th>\n",
       "    </tr>\n",
       "  </thead>\n",
       "  <tbody>\n",
       "    <tr>\n",
       "      <th>0</th>\n",
       "      <td>3</td>\n",
       "      <td>Charlie</td>\n",
       "      <td>Brown</td>\n",
       "    </tr>\n",
       "    <tr>\n",
       "      <th>1</th>\n",
       "      <td>6</td>\n",
       "      <td>Fiona</td>\n",
       "      <td>Apple</td>\n",
       "    </tr>\n",
       "  </tbody>\n",
       "</table>\n",
       "</div>"
      ],
      "text/plain": [
       "   user id first name last name\n",
       "0        3    Charlie     Brown\n",
       "1        6      Fiona     Apple"
      ]
     },
     "execution_count": 57,
     "metadata": {},
     "output_type": "execute_result"
    }
   ],
   "source": [
    "users_with_no_posts(session)"
   ]
  },
  {
   "cell_type": "markdown",
   "metadata": {},
   "source": [
    "#### Find second degree connections between two Users"
   ]
  },
  {
   "cell_type": "code",
   "execution_count": 59,
   "metadata": {},
   "outputs": [],
   "source": [
    "def friendship_chain(session, user_id1, user_id2):\n",
    "    query = f'''\n",
    "    MATCH (u1:User {{user_id: {user_id1}}})-[:FOLLOWS]->(u2:User)<-[:FOLLOWS]-(u3:User {{user_id: {user_id2}}})\n",
    "    WHERE NOT (u1)-[:FOLLOWS]->(u3)\n",
    "    RETURN u2.user_id AS `user id`, u2.first_name AS `first name`, u2.last_name AS `last name`;\n",
    "    '''\n",
    "    return run_query_to_pandas(session, query)"
   ]
  },
  {
   "cell_type": "code",
   "execution_count": 63,
   "metadata": {},
   "outputs": [
    {
     "data": {
      "text/html": [
       "<div>\n",
       "<style scoped>\n",
       "    .dataframe tbody tr th:only-of-type {\n",
       "        vertical-align: middle;\n",
       "    }\n",
       "\n",
       "    .dataframe tbody tr th {\n",
       "        vertical-align: top;\n",
       "    }\n",
       "\n",
       "    .dataframe thead th {\n",
       "        text-align: right;\n",
       "    }\n",
       "</style>\n",
       "<table border=\"1\" class=\"dataframe\">\n",
       "  <thead>\n",
       "    <tr style=\"text-align: right;\">\n",
       "      <th></th>\n",
       "      <th>user id</th>\n",
       "      <th>first name</th>\n",
       "      <th>last name</th>\n",
       "    </tr>\n",
       "  </thead>\n",
       "  <tbody>\n",
       "    <tr>\n",
       "      <th>0</th>\n",
       "      <td>5</td>\n",
       "      <td>Eric</td>\n",
       "      <td>Clapton</td>\n",
       "    </tr>\n",
       "  </tbody>\n",
       "</table>\n",
       "</div>"
      ],
      "text/plain": [
       "   user id first name last name\n",
       "0        5       Eric   Clapton"
      ]
     },
     "execution_count": 63,
     "metadata": {},
     "output_type": "execute_result"
    }
   ],
   "source": [
    "friendship_chain(session, 1, 6)"
   ]
  },
  {
   "cell_type": "markdown",
   "metadata": {},
   "source": [
    "#### Identify orphaned Users (Users who don’t have any connections)\n",
    "This function will be useful to recommend connections to orphaned Users."
   ]
  },
  {
   "cell_type": "code",
   "execution_count": 64,
   "metadata": {},
   "outputs": [],
   "source": [
    "def orphaned_users(session):\n",
    "    query = '''\n",
    "    MATCH (u:User)\n",
    "    WHERE NOT (u)-[:FOLLOWS]->(:User)\n",
    "    RETURN\n",
    "        u.user_id AS `user id`,\n",
    "        u.first_name AS `first name`,\n",
    "        u.last_name AS `last name`;\n",
    "    '''\n",
    "    return run_query_to_pandas(session, query)"
   ]
  },
  {
   "cell_type": "code",
   "execution_count": 65,
   "metadata": {},
   "outputs": [
    {
     "data": {
      "text/html": [
       "<div>\n",
       "<style scoped>\n",
       "    .dataframe tbody tr th:only-of-type {\n",
       "        vertical-align: middle;\n",
       "    }\n",
       "\n",
       "    .dataframe tbody tr th {\n",
       "        vertical-align: top;\n",
       "    }\n",
       "\n",
       "    .dataframe thead th {\n",
       "        text-align: right;\n",
       "    }\n",
       "</style>\n",
       "<table border=\"1\" class=\"dataframe\">\n",
       "  <thead>\n",
       "    <tr style=\"text-align: right;\">\n",
       "      <th></th>\n",
       "      <th>user id</th>\n",
       "      <th>first name</th>\n",
       "      <th>last name</th>\n",
       "    </tr>\n",
       "  </thead>\n",
       "  <tbody>\n",
       "    <tr>\n",
       "      <th>0</th>\n",
       "      <td>3</td>\n",
       "      <td>Charlie</td>\n",
       "      <td>Brown</td>\n",
       "    </tr>\n",
       "  </tbody>\n",
       "</table>\n",
       "</div>"
      ],
      "text/plain": [
       "   user id first name last name\n",
       "0        3    Charlie     Brown"
      ]
     },
     "execution_count": 65,
     "metadata": {},
     "output_type": "execute_result"
    }
   ],
   "source": [
    "orphaned_users(session)"
   ]
  }
 ],
 "metadata": {
  "kernelspec": {
   "display_name": "base",
   "language": "python",
   "name": "python3"
  },
  "language_info": {
   "codemirror_mode": {
    "name": "ipython",
    "version": 3
   },
   "file_extension": ".py",
   "mimetype": "text/x-python",
   "name": "python",
   "nbconvert_exporter": "python",
   "pygments_lexer": "ipython3",
   "version": "3.11.4"
  }
 },
 "nbformat": 4,
 "nbformat_minor": 2
}
